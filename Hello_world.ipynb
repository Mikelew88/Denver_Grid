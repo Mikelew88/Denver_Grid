{
 "cells": [
  {
   "cell_type": "code",
   "execution_count": 7,
   "metadata": {
    "collapsed": false
   },
   "outputs": [],
   "source": [
    "import urllib\n",
    "import cStringIO\n",
    "from PIL import Image "
   ]
  },
  {
   "cell_type": "code",
   "execution_count": 8,
   "metadata": {
    "collapsed": true
   },
   "outputs": [],
   "source": [
    "def get_static_google_map(filename_wo_extension, center=None, zoom=None, imgsize=\"500x500\", imgformat=\"jpeg\",\n",
    "                          maptype=\"roadmap\", markers=None ):\n",
    "    \"\"\"retrieve a map (image) from the static google maps server\n",
    "\n",
    "     See: http://code.google.com/apis/maps/documentation/staticmaps/\n",
    "\n",
    "        Creates a request string with a URL like this:\n",
    "        http://maps.google.com/maps/api/staticmap?center=Brooklyn+Bridge,New+York,NY&zoom=14&size=512x512&maptype=roadmap\n",
    "        &markers=color:blue|label:S|40.702147,-74.015794&sensor=false\"\"\"\n",
    "\n",
    "\n",
    "    # assemble the URL\n",
    "    request =  \"http://maps.google.com/maps/api/staticmap?\" # base URL, append query params, separated by &\n",
    "\n",
    "    # if center and zoom  are not given, the map will show all marker locations\n",
    "    if center != None:\n",
    "        request += \"center=%s&\" % center\n",
    "        #request += \"center=%s&\" % \"40.714728, -73.998672\"   # latitude and longitude (up to 6-digits)\n",
    "        #request += \"center=%s&\" % \"50011\" # could also be a zipcode,\n",
    "        #request += \"center=%s&\" % \"Brooklyn+Bridge,New+York,NY\"  # or a search term\n",
    "    if center != None:\n",
    "        request += \"zoom=%i&\" % zoom  # zoom 0 (all of the world scale ) to 22 (single buildings scale)\n",
    "\n",
    "\n",
    "    request += \"size=%ix%i&\" % (imgsize)  # tuple of ints, up to 640 by 640\n",
    "    request += \"format=%s&\" % imgformat\n",
    "    request += \"maptype=%s&\" % maptype  # roadmap, satellite, hybrid, terrain\n",
    "\n",
    "\n",
    "    # add markers (location and style)\n",
    "    if markers != None:\n",
    "        for marker in markers:\n",
    "                request += \"%s&\" % marker\n",
    "\n",
    "\n",
    "    #request += \"mobile=false&\"  # optional: mobile=true will assume the image is shown on a small screen (mobile device)\n",
    "    request += \"sensor=false&\"   # must be given, deals with getting loction from mobile device\n",
    "    print request\n",
    "\n",
    "    urllib.urlretrieve(request, filename_wo_extension+\".\"+imgformat) # Option 1: save image directly to disk\n",
    "\n",
    "    # Option 2: read into PIL\n",
    "    web_sock = urllib.urlopen(request)\n",
    "    imgdata = cStringIO.StringIO(web_sock.read()) # constructs a StringIO holding the image\n",
    "    try:\n",
    "        PIL_img = Image.open(imgdata)\n",
    "\n",
    "    # if this cannot be read as image that, it's probably an error from the server,\n",
    "    except IOError:\n",
    "        print \"IOError:\", imgdata.read() # print error (or it may return a image showing the error\"\n",
    "\n",
    "    # show image\n",
    "    else:\n",
    "        PIL_img.show()\n",
    "        #PIL_img.save(filename_wo_extension+\".jpg\", \"JPEG\") # save as jpeg\n",
    "\n"
   ]
  },
  {
   "cell_type": "code",
   "execution_count": 13,
   "metadata": {
    "collapsed": false
   },
   "outputs": [
    {
     "name": "stdout",
     "output_type": "stream",
     "text": [
      "http://maps.google.com/maps/api/staticmap?center=42.950827,-122.108974&zoom=12&size=500x500&format=jpg&maptype=terrain&sensor=false&\n",
      "http://maps.google.com/maps/api/staticmap?center=Empire+State+Building&zoom=18&size=500x500&format=jpeg&maptype=hybrid&sensor=false&\n",
      "http://maps.google.com/maps/api/staticmap?size=640x640&format=png&maptype=roadmap&sensor=false&\n"
     ]
    },
    {
     "name": "stderr",
     "output_type": "stream",
     "text": [
      "/Users/michaellewis/anaconda/lib/python2.7/site-packages/PIL/Image.py:874: UserWarning: Palette images with Transparency   expressed in bytes should be converted to RGBA images\n",
      "  'to RGBA images')\n"
     ]
    }
   ],
   "source": [
    " # make a map around a center\n",
    "get_static_google_map(\"google_map_example1\", center=\"42.950827,-122.108974\", zoom=12, imgsize=(500,500), imgformat=\"jpg\", maptype=\"terrain\" )\n",
    "\n",
    "get_static_google_map(\"google_map_example2\", center=\"Empire+State+Building\", zoom=18, imgsize=(500,500), maptype=\"hybrid\")\n",
    "\n",
    "# make map that shows all the markers\n",
    "get_static_google_map(\"google_map_example3\", imgsize=(640,640), imgformat=\"png\")\n",
    "\n"
   ]
  },
  {
   "cell_type": "code",
   "execution_count": 24,
   "metadata": {
    "collapsed": false
   },
   "outputs": [
    {
     "data": {
      "text/plain": [
       "('Denver_Test.jpg', <httplib.HTTPMessage instance at 0x1112067e8>)"
      ]
     },
     "execution_count": 24,
     "metadata": {},
     "output_type": "execute_result"
    }
   ],
   "source": [
    "request = \"http://maps.googleapis.com/maps/api/staticmap?center=39.7640021,-105.1352965&zoom=12&size=640x400&\\\n",
    "style=element:labels|visibility:off&style=element:geometry.stroke|visibility:off&\\\n",
    "style=feature:landscape|element:geometry|saturation:-100&style=feature:water|saturation:-100|invert_lightness:true\"\n",
    "urllib.urlretrieve(request, 'Denver_Test.jpg')"
   ]
  },
  {
   "cell_type": "code",
   "execution_count": null,
   "metadata": {
    "collapsed": true
   },
   "outputs": [],
   "source": []
  }
 ],
 "metadata": {
  "kernelspec": {
   "display_name": "Python 2",
   "language": "python",
   "name": "python2"
  },
  "language_info": {
   "codemirror_mode": {
    "name": "ipython",
    "version": 2
   },
   "file_extension": ".py",
   "mimetype": "text/x-python",
   "name": "python",
   "nbconvert_exporter": "python",
   "pygments_lexer": "ipython2",
   "version": "2.7.11"
  }
 },
 "nbformat": 4,
 "nbformat_minor": 0
}
